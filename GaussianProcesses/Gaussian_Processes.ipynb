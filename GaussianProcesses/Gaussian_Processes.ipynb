{
 "cells": [
  {
   "cell_type": "markdown",
   "id": "dense-anthony",
   "metadata": {},
   "source": [
    "<div style=\"background-color: #ccffcc; padding: 10px;\">\n",
    "    <h1> Tutorial 4 </h1> \n",
    "    <h2> Gaussian Processes </h2>\n",
    "</div>    "
   ]
  },
  {
   "cell_type": "markdown",
   "id": "careful-fashion",
   "metadata": {},
   "source": [
    "## Overview\n",
    "\n",
    "\n"
   ]
  },
  {
   "cell_type": "markdown",
   "id": "liked-canyon",
   "metadata": {},
   "source": [
    "<div style=\"background-color: #ccffcc; padding: 10px;\">\n",
    "\n",
    "<h1> Gaussian Processes </h1>\n",
    "\n",
    "This tutorial is based on work done by Ollie Pollard on using Gaussian Processes to predict sea level rise. Following the steps outlined in this [visual article](https://distill.pub/2019/visual-exploration-gaussian-processes/). Gaussian processes are often used to make predictions about our data by incorporating prior knowledge often to fit a function to a data set. For a given set of training points, there are potentially infinitely many functions that fit the data. Gaussian processes offer an elegant solution to this problem by assigning a probability to each of these functions. The mean of this probability distribution then represents the most probable characterization of the data.\n",
    "\n",
    "\n",
    "    \n",
    "## Recommended reading\n",
    "\n",
    "* [Overview of Linear Regression](https://towardsdatascience.com/linear-regression-detailed-view-ea73175f6e86)\n",
    "* [An Intuative Guide to Gaussian Processes](https://towardsdatascience.com/an-intuitive-guide-to-gaussian-processes-ec2f0b45c71d)\n",
    "    \n",
    "</div>\n",
    "\n"
   ]
  },
  {
   "cell_type": "markdown",
   "id": "hispanic-recall",
   "metadata": {},
   "source": [
    "<hr>\n",
    "\n",
    "\n",
    "<div style=\"background-color: #e6ccff; padding: 10px;\">\n",
    "    \n",
    "<h1> Machine Learning Theory </h1>\n",
    "    \n",
    "<a href=\"https://distill.pub/2019/visual-exploration-gaussian-processes/\">\n",
    "                <img src=\"animations/post_sample.gif\">\n",
    "</a>\n",
    "    \n",
    "This tutorial is mainly focusing on using python to explore Gaussian Processes. Please read the full [visual aritcle](https://distill.pub/2019/visual-exploration-gaussian-processes/) for a more in depth explanation.\n",
    "    \n",
    "The [gaussian distribution](https://en.wikipedia.org/wiki/Normal_distribution) forms the building blocks of Gaussian Processes.\n",
    "   $\\displaystyle f(x) ={\\frac {1}{\\sigma {\\sqrt {2\\pi }}}}e^{-{\\frac {1}{2}}\\left({\\frac {x-\\mu }{\\sigma }}\\right)^{2}}$\n",
    " \n",
    "<a href=\"https://distill.pub/2019/visual-exploration-gaussian-processes/\">\n",
    "    <img src=\"animations/gaussian_dist.gif\">\n",
    "</a>\n",
    "\n",
    "For Machine Learning Gaussian Processes we are interested in the [multivariate case](https://en.wikipedia.org/wiki/Multivariate_normal_distribution). The multivariate Gaussian distribution is defined by a mean vector $\\mu$ (the expected value of the distribution) and a covariance matrix $\\Sigma$. $\\Sigma$ models the variance along each dimension and determines how the different random variables are correlated. If $X$ follows a normal distribution:\n",
    "    \n",
    "\\begin{equation} X = \\begin{bmatrix} X_1 \\\\ X_2 \\\\ \\vdots \\\\ X_n \\end{bmatrix} \\sim \\mathcal{N}(\\mu, \\Sigma) \\end{equation}\n",
    " \n",
    "The covariance matrix $\\Sigma$ describes the shape of the distribution. It is defined in terms of the expected value $E$\n",
    "    \n",
    "\\begin{equation}    \n",
    "\\Sigma = \\text{Cov}(X_i, X_j) = E \\left[ (X_i - \\mu_i)(X_j - \\mu_j)^T \\right]\n",
    "\\end{equation}\n",
    " \n",
    "Gaussian distributions have the nice algebraic property of being closed under conditioning and marginalization. Being closed under conditioning and marginalization means that the resulting distributions from these operations are also Gaussian, which makes many problems in statistics and machine learning tractable.\n",
    "Marginalization and conditioning both work on subsets of the original distribution and we will use the following notation:\n",
    "\n",
    "\\begin{equation}\n",
    "P_{X,Y} = \\begin{bmatrix} X \\\\ Y \\end{bmatrix} \\sim \\mathcal{N}(\\mu, \\Sigma) = \\mathcal{N} \\left( \\begin{bmatrix} \\mu_X \\\\ \\mu_Y \\end{bmatrix}, \\begin{bmatrix} \\Sigma_{XX} \\, \\Sigma_{XY} \\\\ \\Sigma_{YX} \\, \\Sigma_{YY} \\end{bmatrix} \\right)   \n",
    "\\end{equation}\n",
    "\n",
    "With $X$ and $Y$ representing subsets of original random variables.   \n",
    "Through marginalization we can extract partial information from multivariate probability distributions. In particular, given a normal probability distribution $P(X,Y)$ over vectors of random variables $X$ and $Y$, we can determine their marginalized probability distributions in the following way:\n",
    "    \n",
    "\\begin{equation}\n",
    "\\begin{aligned}\n",
    "X \\sim \\mathcal{N}(\\mu_X, \\Sigma_{XX}) \\\\\n",
    "Y \\sim \\mathcal{N}(\\mu_Y, \\Sigma_{YY})\n",
    "\\end{aligned}\n",
    "\\end{equation}    \n",
    "    \n",
    "The interpretation of this equation is that each partition $X$ and $Y$ only depends on its corresponding entries in $\\mu$ and $\\Sigma$. To marginalize out a random variable from a Gaussian distribution we can simply drop the variables from $\\mu$ and $\\Sigma$.\n",
    "    \n",
    "\\begin{equation}  \n",
    "p_X(x) = \\int_y p_{X,Y}(x,y)dy = \\int_y p_{X|Y}(x|y) p_Y(y) dy\n",
    "\\end{equation}\n",
    "    \n",
    "The way to interpret this equation is that if we are interested in the probability density of $X=x$, we need to consider all possible outcomes of $Y$ that can jointly lead to the result.\n",
    "\n",
    "Another important operation for Gaussian processes is conditioning. It is used to determine the probability of one variable depending on another variable. Similar to marginalization, this operation is also closed and yields a modified Gaussian distribution. This operation is the cornerstone of Gaussian processes since it allows Bayesian inference. Conditioning is defined by:\n",
    "    \n",
    "\\begin{equation}     \n",
    "\\begin{aligned}\n",
    "X|Y \\sim \\mathcal{N}(\\:\\mu_X + \\Sigma_{XY}\\Sigma_{YY}^{-1}(Y - \\mu_Y),\\: \\Sigma_{XX}-\\Sigma_{XY}\\Sigma_{YY}^{-1}\\Sigma_{YX}\\:) \\\\\n",
    "Y|X \\sim \\mathcal{N}(\\:\\mu_Y + \\Sigma_{YX}\\Sigma_{XX}^{-1}(X - \\mu_X),\\: \\Sigma_{YY}-\\Sigma_{YX}\\Sigma_{XX}^{-1}\\Sigma_{XY}\\:) \\\\\n",
    "\\end{aligned}\n",
    "\\end{equation}\n",
    "\n",
    "The new mean only depends on the conditioned variable, while the covariance matrix is independent from this variable.\n",
    "\n",
    "</div>    \n",
    " \n",
    "\n"
   ]
  },
  {
   "cell_type": "markdown",
   "id": "expired-attribute",
   "metadata": {},
   "source": [
    "  \n",
    "<div style=\"background-color: #cce5ff; padding: 10px;\">\n",
    "\n",
    "<h1> Python </h1>\n",
    "\n",
    "## Tensorflow and GPflow\n",
    "    \n",
    "There are many machine learning python libraries available, [TensorFlow](https://www.tensorflow.org/) a is one such library. Throughout this tutorial, you will see some complex machine learning tasks executed in just a few lines of code by calling [GPflow](https://gpflow.readthedocs.io/en/master/) functions which use Tensor flow. If you have GPUs on the machine you are using, these python libraries will automatically use them and run the code even faster!\n",
    "\n",
    "## Further Reading\n",
    "    \n",
    "* [GPflow example Notebooks](https://gpflow.readthedocs.io/en/develop/notebooks_file.html)\n",
    "\n",
    "</div>\n",
    "    \n",
    "<hr>"
   ]
  },
  {
   "cell_type": "markdown",
   "id": "seasonal-concept",
   "metadata": {},
   "source": [
    "<div style=\"background-color: #ffffcc; padding: 10px;\">\n",
    "    \n",
    "<h1> Requirements </h1>\n",
    "\n",
    "These notebooks should run on a standard laptop with the correct python environment.\n",
    "\n",
    "<h2> Python Packages: </h2>\n",
    "\n",
    "* Python 3.8\n",
    "* tensorflow > 2.1\n",
    "* gpflow 2.1 *(must be installed via pip to get latest version)*\n",
    "* numpy \n",
    "* matplotlib\n",
    "* plotly\n",
    "* scipy\n",
    "* pandas\n",
    "\n",
    "\n",
    "<h2> Data Requirements</h2>\n",
    "    \n",
    "This notebook referes to some data included in the git hub repositroy in the [data](data) folder\n",
    "    \n",
    "</div>"
   ]
  },
  {
   "cell_type": "markdown",
   "id": "coral-attempt",
   "metadata": {},
   "source": [
    "\n",
    "**Contents:**\n",
    "\n",
    "1. [Overview of Gausian Processes](#Overview-of-Gausian-Processes)\n",
    "2. [Sea Level Example](#Sea-Level-Example)\n",
    "1. [Load Data](#Load-Data)\n",
    "2. [Normalise Data](#Normalise-Data)\n",
    "3. [Plot Data](#Plot-Data)\n",
    "4. [Define GP flow model](#Define-GP-flow-model)\n",
    "5. [Optamization](#Optamization)\n",
    "6. [Prediction](#Prediction)\n",
    "7. [Cross Validation](#Cross-Validation)\n",
    "8. [Plot High Stands](#Plot-High-Stands)\n"
   ]
  },
  {
   "cell_type": "markdown",
   "id": "enabling-steam",
   "metadata": {},
   "source": [
    "<div style=\"background-color: #cce5ff; padding: 10px;\">\n",
    "    \n",
    "Load in all required modules and turn off warnings. If you have no [GPU's](https://www.analyticsvidhya.com/blog/2020/09/why-gpus-are-more-suited-for-deep-learning/) available you may see some tensor flow warnings\n",
    "\n",
    "</div>\n"
   ]
  },
  {
   "cell_type": "code",
   "execution_count": null,
   "id": "inappropriate-magic",
   "metadata": {},
   "outputs": [],
   "source": [
    "# For readability: disable warnings\n",
    "import warnings\n",
    "warnings.filterwarnings('ignore')"
   ]
  },
  {
   "cell_type": "code",
   "execution_count": null,
   "id": "affecting-scanner",
   "metadata": {},
   "outputs": [],
   "source": [
    "# import modules\n",
    "import gpflow\n",
    "import tensorflow as tf\n",
    "import numpy as np\n",
    "import matplotlib.pyplot as plt\n",
    "import plotly.express as px\n",
    "from gpflow.utilities import print_summary\n",
    "from scipy.spatial.distance import cdist\n",
    "from scipy.stats import multivariate_normal\n",
    "\n",
    "gpflow.config.set_default_summary_fmt(\"notebook\")\n",
    "plt.style.use(\"seaborn-whitegrid\")"
   ]
  },
  {
   "cell_type": "markdown",
   "id": "07ce84e8",
   "metadata": {},
   "source": [
    "# Overview of Gausian Processes\n",
    "\n",
    "<div style=\"background-color: #ccffcc; padding: 10px;\">\n",
    "\n",
    "Say we want to find an unknown function `y` where $y = x^3 - 9x + e^{(x^3/30)}$ from a random sample of points [`x_samp`, `ysamp`]\n",
    "    \n",
    "**NB function `y` is chosen at random for demonstative purposes you can change `y` to what ever you like and see similar results!**\n",
    "    \n",
    "\n",
    "</div>"
   ]
  },
  {
   "cell_type": "markdown",
   "id": "27c14374",
   "metadata": {},
   "source": [
    "<div style=\"background-color: #ccffcc; padding: 10px;\">\n",
    "\n",
    " \n",
    "After you've ran throught the code you might want to re run with a different choice of `y`     \n",
    "    \n",
    "</div>"
   ]
  },
  {
   "cell_type": "code",
   "execution_count": null,
   "id": "d8440359",
   "metadata": {},
   "outputs": [],
   "source": [
    "# some function y that we're going to try and find\n",
    "# set x to between -6 and 6\n",
    "x = np.linspace(-6,6,100)\n",
    "# A random function chosem\n",
    "y = x**3 - 9*x + np.exp(x**3/30)"
   ]
  },
  {
   "cell_type": "markdown",
   "id": "05515d9e",
   "metadata": {},
   "source": [
    "# generate sample"
   ]
  },
  {
   "cell_type": "code",
   "execution_count": null,
   "id": "86dadabc",
   "metadata": {},
   "outputs": [],
   "source": [
    "# a random sample of points\n",
    "# whole x range is between -6 and 6 and we'll sample x between -2 and 2 \n",
    "sample_size = 5\n",
    "\n",
    "samp_index = np.random.randint((len(x)-1)/4, high=(len(x)-1)*3/4, size=sample_size)"
   ]
  },
  {
   "cell_type": "markdown",
   "id": "75c75cb9",
   "metadata": {},
   "source": [
    "<div style=\"background-color: #ccffcc; padding: 10px;\">\n",
    "\n",
    "Later if you wish you can uncomment the below cell to see the effects of changing the sample size or sample area (below is set to sample whole range with a sample size of 8)\n",
    "\n",
    "</div>"
   ]
  },
  {
   "cell_type": "code",
   "execution_count": null,
   "id": "bf732d59",
   "metadata": {},
   "outputs": [],
   "source": [
    "#sample_size = 8\n",
    "#samp_index = np.random.randint(0, high=len(x), size=sample_size)"
   ]
  },
  {
   "cell_type": "markdown",
   "id": "5f2f9385",
   "metadata": {},
   "source": [
    "<div style=\"background-color: #cce5ff; padding: 10px;\">\n",
    " \n",
    "As we've take a random sample there's a small chance we might have sampled the same point twice so the below code is going to check we have 5 unique sample points    \n",
    "    \n",
    "</div>"
   ]
  },
  {
   "cell_type": "code",
   "execution_count": null,
   "id": "3526ef0a",
   "metadata": {},
   "outputs": [],
   "source": [
    "# Check no duplicates in sample index\n",
    "\n",
    "if len(np.unique(samp_index)) != sample_size :\n",
    "    print(\"duplicate sample index found please rerun above cell\")"
   ]
  },
  {
   "cell_type": "code",
   "execution_count": null,
   "id": "016c0340",
   "metadata": {},
   "outputs": [],
   "source": [
    "samp_index"
   ]
  },
  {
   "cell_type": "code",
   "execution_count": null,
   "id": "b48cff78",
   "metadata": {},
   "outputs": [],
   "source": [
    "x_samp = x[samp_index]\n",
    "y_samp = y[samp_index]\n",
    "# Plot Sample points\n",
    "fig, ax = plt.subplots(figsize=(10,5))\n",
    "point_c = \"#f77f00\"\n",
    "ax.scatter(x_samp, y_samp, s=50, c=point_c, zorder=10)\n",
    "ax.set_xlim([-6,6])\n",
    "ax.set_xlabel(\"x\")\n",
    "ax.set_ylabel(\"f(x)\")"
   ]
  },
  {
   "cell_type": "markdown",
   "id": "68be05c9",
   "metadata": {},
   "source": [
    "<div style=\"background-color: #ccffcc; padding: 10px;\">\n",
    "\n",
    "From these few points it's not obvious what function `y` could possibly be. So we can use Gaussian Processes to help work out the unknown function from these few points\n",
    "\n",
    "The covariance matrix $\\Sigma$ is determined by its covariance function $k$, which is often also called the kernel of the Gaussian process. Here we will use the [Radial Basis Function Kernal](https://towardsdatascience.com/radial-basis-function-rbf-kernel-the-go-to-kernel-acf0d22c798a):\n",
    "    \n",
    "\\begin{equation}\n",
    " K(X_1,X_2) = exp(-{\\frac{||X_1 - X_2|| ^2}{2\\sigma^2}}) \n",
    "\\end{equation}\n",
    "\n",
    "where $\\sigma$ is the variance and hyperparameter and $||X_1 - X_2|| ^2$ is the is the Euclidean distance between two points \n",
    "    \n",
    "this is defined in the function `rbf_kernel`\n",
    "</div>"
   ]
  },
  {
   "cell_type": "code",
   "execution_count": null,
   "id": "9c77c430",
   "metadata": {},
   "outputs": [],
   "source": [
    "# radial basis function kernel\n",
    "def rbf_kernel(x1, x2, var, lscale):\n",
    "    \"\"\"\n",
    "        Compute the Euclidean distance between each row of X and X2, or between\n",
    "        each pair of rows of X if X2 is None and feed it to the kernel.\n",
    "     \"\"\"\n",
    "    if x2 is None:\n",
    "        d = cdist(x1, x1)\n",
    "    else:\n",
    "        d = cdist(x1, x2)\n",
    "    K = var*np.exp(-np.power(d,2)/(lscale**2))\n",
    "    return K"
   ]
  },
  {
   "cell_type": "markdown",
   "id": "82ca3e8d",
   "metadata": {},
   "source": [
    "<div style=\"background-color: #ccffcc; padding: 10px;\">\n",
    "\n",
    "so `K` can be obtained via `rbf_kernel` and $\\mu$ `mu` is often assumed to be zero as a starting point\n",
    "</div>"
   ]
  },
  {
   "cell_type": "markdown",
   "id": "e90b5f6d",
   "metadata": {},
   "source": [
    "<div style=\"background-color: #cce5ff; padding: 10px;\">\n",
    "\n",
    "try adjusting `lscale` to see what happens with the results\n",
    "e.g. after running through the first time set `lscale=5` and run through all cells again\n",
    "    \n",
    "Increasing the length parameter increases the banding, as points further away from each other become more correlated. \n",
    "    \n",
    "</div>"
   ]
  },
  {
   "cell_type": "code",
   "execution_count": null,
   "id": "9e2bb5b3",
   "metadata": {},
   "outputs": [],
   "source": [
    "lscale = 1.0\n",
    "K_rbf = rbf_kernel(x.reshape(-1,1), None, 1.0, lscale)\n",
    "mu = np.zeros(x.shape[0])\n",
    "f_rbf = np.random.multivariate_normal(mu, K_rbf, 100)"
   ]
  },
  {
   "cell_type": "code",
   "execution_count": null,
   "id": "ff646d12",
   "metadata": {},
   "outputs": [],
   "source": [
    "rv = multivariate_normal(np.zeros(2), rbf_kernel(np.arange(0,2).reshape(-1,1), None, 1.0, 2.0))"
   ]
  },
  {
   "cell_type": "code",
   "execution_count": null,
   "id": "64f1ad96",
   "metadata": {},
   "outputs": [],
   "source": [
    "#Create grid and multivariate normal\n",
    "a = np.linspace(-3,3,500)\n",
    "b = np.linspace(-3,3,500)\n",
    "X, Y = np.meshgrid(a,b)\n",
    "pos = np.empty(X.shape + (2,))\n",
    "pos[:, :, 0] = X\n",
    "pos[:, :, 1] = Y"
   ]
  },
  {
   "cell_type": "markdown",
   "id": "98be54da",
   "metadata": {},
   "source": [
    "<div style=\"background-color: #ccffcc; padding: 10px;\">\n",
    "\n",
    "Stochastic processes, such as Gaussian processes, are essentially a set of random variables. In addition, each of these random variables has a corresponding index $i$. We will use this index to refer to the $i$-th dimension of our nnn-dimensional multivariate distributions.\n",
    "    \n",
    "Below, we have a two-dimensional normal distribution. Each dimension $y_i$ is assigned an index $\\displaystyle{i \\in {1,2}}$.  This representation allows us to understand the connection between the covariance and the resulting values: the underlying Gaussian distribution has a positive covariance between $y_1$ and $y_1$ -  this means that $y_2$ will increases as $y_1$ gets larger and vice versa. \n",
    "    \n",
    "</div>\n"
   ]
  },
  {
   "cell_type": "code",
   "execution_count": null,
   "id": "23b0eb7b",
   "metadata": {},
   "outputs": [],
   "source": [
    "grid = plt.GridSpec(1, 2, wspace=0.2, hspace=0.3)\n",
    "fig = plt.figure(figsize=(10, 5))\n",
    "ax1 = fig.add_subplot(grid[0, 0])\n",
    "ax2 = fig.add_subplot(grid[0, 1])\n",
    "ax1.contourf(X, Y, rv.pdf(pos), cmap=\"Reds\", levels=300)\n",
    "for index in range(10):\n",
    "    rand_y1, rand_y2 = np.random.multivariate_normal(np.zeros(2), rbf_kernel(np.arange(0,2).reshape(-1,1), None, 1.0, 2.0), 1)[0]\n",
    "    ax1.scatter(rand_y1, rand_y2)\n",
    "    ax1.set_xlabel(\"$y_1$\")\n",
    "    ax1.set_ylabel(\"$y_2$\")\n",
    "    ax2.plot(np.arange(1,3), [rand_y1, rand_y2], '-o')\n",
    "    ax2.set_xlim([0,3])\n",
    "    ax2.set_ylim([-3,3])\n",
    "    ax2.set_xlabel(\"index\")\n",
    "    ax2.set_ylabel(\"$y$\")\n",
    "    ax2.set_xticks([1,2])"
   ]
  },
  {
   "cell_type": "markdown",
   "id": "bf7147ba",
   "metadata": {},
   "source": [
    "<div style=\"background-color: #ccffcc; padding: 10px;\">\n",
    "The more horizontal the lines are the more strongly correlated \n",
    "</div>"
   ]
  },
  {
   "cell_type": "code",
   "execution_count": null,
   "id": "75487067",
   "metadata": {},
   "outputs": [],
   "source": [
    "# rbf_kernel(X1,X2,var,lscale)\n",
    "rbf_kernel(np.arange(0,2).reshape(-1,1), None, 1.0, lscale)"
   ]
  },
  {
   "cell_type": "markdown",
   "id": "af39fff9",
   "metadata": {},
   "source": [
    "<div style=\"background-color: #ccffcc; padding: 10px;\">\n",
    "\n",
    "## Prior distribution\n",
    "\n",
    "\n",
    "The following figure shows samples of potential functions from prior distributions (the case where we have not yet observed any training data) that were created using RBF kernel\n",
    "    \n",
    "</div>"
   ]
  },
  {
   "cell_type": "code",
   "execution_count": null,
   "id": "ff4bf6c5",
   "metadata": {},
   "outputs": [],
   "source": [
    "var_index = np.linspace(0, 20,100)\n",
    "fig, ax = plt.subplots(figsize=(10,5))\n",
    "for index in range(10):\n",
    "    ax.plot(var_index, np.random.multivariate_normal(np.zeros(var_index.shape[0]), rbf_kernel(var_index.reshape(-1,1), None, 1.0, 5.0), 1)[0])\n",
    "    ax.set_xlim(0,20)\n",
    "    ax.set_ylim(-3,3)\n",
    "    ax.set_xlabel(\"$x$\")\n",
    "    ax.set_ylabel(\"$y$\")\n",
    "    ax.set_xticks([])\n",
    "ax.set_title('GP samples from RBF where lscale ='+str(lscale))"
   ]
  },
  {
   "cell_type": "code",
   "execution_count": null,
   "id": "198512d1",
   "metadata": {},
   "outputs": [],
   "source": [
    "# Covariance matrix from the RBF kernel\n",
    "# rbf_kernel(X1,X2,var,lscale)\n",
    "K_rbf = rbf_kernel(x.reshape(-1,1), None, 1.0, lscale)\n",
    "# mu = 0\n",
    "mu = np.zeros(x.shape[0])\n",
    "# fuctions from rbf kernel\n",
    "f_rbf = np.random.multivariate_normal(mu, K_rbf, 100)"
   ]
  },
  {
   "cell_type": "code",
   "execution_count": null,
   "id": "becd6ca0",
   "metadata": {},
   "outputs": [],
   "source": [
    "# plot 100 GP samples\n",
    "index=100\n",
    "fig, ax = plt.subplots(figsize=(10,5))\n",
    "ax.plot(x, f_rbf.T[:,0:index], color='C0', alpha=0.2)\n",
    "ax.set_xlim([-6,6])\n",
    "# depending you you function choice you might need to comment out the ylim line below \n",
    "ax.set_ylim([-10,15])\n",
    "ax.set_xlabel(\"x\")\n",
    "ax.set_ylabel(\"f(x)\")\n",
    "ax.set_title('100 GP samples from  RBF kernel where lscale ='+str(lscale))"
   ]
  },
  {
   "cell_type": "markdown",
   "id": "1fcbf842",
   "metadata": {},
   "source": [
    "<div style=\"background-color: #ccffcc; padding: 10px;\">\n",
    "as $\\mu$ is set to zero all functions are distributed normally around the mean $\\mu$ (0)\n",
    "</div>"
   ]
  },
  {
   "cell_type": "markdown",
   "id": "38c26c7d",
   "metadata": {},
   "source": [
    "<div style=\"background-color: #ccffcc; padding: 10px;\">\n",
    "\n",
    "## Posterior distribution\n",
    "\n",
    "now we're going to activate training data which we can add back into our distribution. To give the posterior distribution (where we have incorporated the training data into our model). \n",
    "\n",
    "1. First, we form the joint distribution between all x points `x` and the training points `x_samp` which gives `k_starX` \n",
    "2. we can the use `k_xx` (covariance matrix of test x points) `k_starstar` covariance matrix of all x to calculate $\\mu_{pred}$ and $K_{pred}$\n",
    "    \n",
    "\\begin{equation}\n",
    "\\boldsymbol \\mu_{\\text{pred}} = \\mathbf{K}_*^\\top \\left[\\mathbf{K} + \\sigma^2 \\mathbf{I}\\right]^{-1} \\mathbf{y}\n",
    "\\end{equation}\n",
    "    \n",
    "\\begin{equation}\n",
    "\\mathbf{K}_{\\text{pred}} = \\mathbf{K}_{*,*} - \\mathbf{K}_*^\\top \\left[\\mathbf{K} + \\sigma^2 \\mathbf{I}\\right]^{-1} \\mathbf{K}_*.\n",
    "\\end{equation}\n",
    " \n",
    "</div>"
   ]
  },
  {
   "cell_type": "code",
   "execution_count": null,
   "id": "a11ec1cb",
   "metadata": {},
   "outputs": [],
   "source": [
    "k_starX = rbf_kernel(x.reshape(-1,1), x_samp.reshape(-1,1), 3, lscale)\n",
    "\n",
    "# K from sample point\n",
    "k_xx = rbf_kernel(x_samp.reshape(-1,1), None, 3, lscale)\n",
    "k_starstar = rbf_kernel(x.reshape(-1,1), None, 3, lscale)"
   ]
  },
  {
   "cell_type": "code",
   "execution_count": null,
   "id": "c9eb330e",
   "metadata": {},
   "outputs": [],
   "source": [
    "print('no training data multivariate Gaussian distribution shape = ' +str(k_starstar.shape))\n",
    "print('sample-whole multivariate Gaussian distribution shape = ' +str(k_starX.shape))\n",
    "print('whole multivariate Gaussian distribution shape = ' +str(k_starX.shape))"
   ]
  },
  {
   "cell_type": "code",
   "execution_count": null,
   "id": "98e08ec9",
   "metadata": {},
   "outputs": [],
   "source": [
    "mu = k_starX.dot(np.linalg.inv(k_xx)).dot(y_samp).flatten()\n",
    "var = k_starstar - k_starX.dot(np.linalg.inv(k_xx)).dot(k_starX.T)"
   ]
  },
  {
   "cell_type": "markdown",
   "id": "b65b08da",
   "metadata": {},
   "source": [
    "<div style=\"background-color: #cce5ff; padding: 10px;\">\n",
    "\n",
    "If you get an error here please return to [generate sample](#generate-sample) section to check for duplicated sample points\n",
    "\n",
    "</div>"
   ]
  },
  {
   "cell_type": "markdown",
   "id": "b3b2bc70",
   "metadata": {},
   "source": [
    "<div style=\"background-color: #ccffcc; padding: 10px;\">\n",
    "In the constrained covariance matrix `var`, we can see that the correlation of neighbouring points is affected by the training data. If a predicted point lies on the training data, there is no correlation with other points. Therefore, the function must pass directly through it. Predicted values further away are also affected by the training data: proportional to their distance. \n",
    "</div>"
   ]
  },
  {
   "cell_type": "code",
   "execution_count": null,
   "id": "cc008204",
   "metadata": {},
   "outputs": [],
   "source": [
    "fig, ax = plt.subplots()\n",
    "ax.imshow(var, cmap=\"BuPu\", interpolation='None')\n",
    "ax.axis(False)"
   ]
  },
  {
   "cell_type": "code",
   "execution_count": null,
   "id": "75426e81",
   "metadata": {},
   "outputs": [],
   "source": [
    "# functions from new mu and covariance matrix\n",
    "f_star = np.random.multivariate_normal(mu, var, 100)\n",
    "f_star_mean = f_star.mean(axis=0)\n",
    "f_star_std = f_star.std(axis=0)"
   ]
  },
  {
   "cell_type": "markdown",
   "id": "3e49d531",
   "metadata": {},
   "source": [
    "<div style=\"background-color: #ccffcc; padding: 10px;\">\n",
    "\n",
    "Now we have our function prectitons `f_star`that intercepts all training points\n",
    "</div>"
   ]
  },
  {
   "cell_type": "code",
   "execution_count": null,
   "id": "86d813ac",
   "metadata": {},
   "outputs": [],
   "source": [
    "# plot predictions\n",
    "fig, ax = plt.subplots(figsize=(10,5))\n",
    "#plt.scatter(x, y, 100, 'k', 'o', zorder=100)\n",
    "ax.scatter(x_samp, y_samp, s=50, c=\"C1\", zorder=10)\n",
    "ax.plot(x, f_star.T, color='C0', alpha=0.1)\n",
    "# if you have altered the function you may need to alter the y lim\n",
    "ax.set_xlim([-6,6])\n",
    "ax.set_ylim([-10,15])\n",
    "ax.set_xlabel(\"x\")\n",
    "ax.set_ylabel(\"f(x)\")\n",
    "plt.show()"
   ]
  },
  {
   "cell_type": "markdown",
   "id": "9398b3a5",
   "metadata": {},
   "source": [
    "<div style=\"background-color: #ccffcc; padding: 10px;\">\n",
    "\n",
    "We can plot below the mean prediction function and the standard deviation. Away from training points the standard deviation is much higher. Reflecting the lack of knowledge in these areas. \n",
    "</div>"
   ]
  },
  {
   "cell_type": "code",
   "execution_count": null,
   "id": "ee7df77f",
   "metadata": {},
   "outputs": [],
   "source": [
    "fig, ax = plt.subplots(figsize=(10,5))\n",
    "ax.scatter(x_samp, y_samp, s=50, c=\"C1\", zorder=10)\n",
    "ax.plot(x,y,color='r',alpha=0.2)\n",
    "ax.plot(x, f_star_mean, color='C0')\n",
    "ax.fill_between(x.flatten(), f_star_mean+f_star_std, f_star_mean-f_star_std, alpha=0.1, color='C0')\n",
    "ax.set_xlim([-6,6])\n",
    "# if you have altered the function you may need to alter the y lim\n",
    "ax.set_ylim([-10,15])\n",
    "ax.set_xlabel(\"x\")\n",
    "ax.set_ylabel(\"f(x)\")\n",
    "ax.legend(['actual','predicted'])"
   ]
  },
  {
   "cell_type": "markdown",
   "id": "a1624a46",
   "metadata": {},
   "source": [
    "<div style=\"background-color: #ccffcc; padding: 10px;\">\n",
    "Since the RBF kernel is stationary it will always return to $\\mu=0$ in regions further away from observed training data. This decreases the accuracy for predictions that reach further into the past or the future.\n",
    "</div>"
   ]
  },
  {
   "cell_type": "markdown",
   "id": "9851a817",
   "metadata": {},
   "source": [
    "# Sea Level Example\n",
    "\n",
    "<div style=\"background-color: #ccffcc; padding: 10px;\">\n",
    "\n",
    "Now let's look at an example using Gaussian Process to Predict sea level change using a subset of sea level data from RISeR dataset provided in python numpy arrays by Oliver Pollard.    \n",
    "\n",
    "Example of a global RSL change output for the Last Glacial maximum to present (using the ICE-5G (Peltier et al., 2015) input to a implemented model (Han and Gomez, 2018) of sea level theory (Kendall et al., 2005)).\n",
    "    \n",
    "<img src=\"images/sealevel_data.png\">\n",
    "\n",
    "        \n",
    "</div>"
   ]
  },
  {
   "cell_type": "markdown",
   "id": "hispanic-jones",
   "metadata": {
    "tags": [
     "hide-cell"
    ]
   },
   "source": [
    "# Load Data "
   ]
  },
  {
   "cell_type": "markdown",
   "id": "modular-arabic",
   "metadata": {
    "tags": [
     "hide-input"
    ]
   },
   "source": [
    "<div style=\"background-color: #cce5ff; padding: 10px;\">\n",
    "\n",
    "For this example we're using data provided in python [.npy files](https://towardsdatascience.com/what-is-npy-files-and-why-you-should-use-them-603373c78883) containing relative sea level change at a single point in the southern north sea at 122 (ka). `highstand` data we will use to test our predictions \n",
    "    \n",
    "<img src=\"images/sealevel_data_ts.png\">\n",
    "  \n",
    " </div>"
   ]
  },
  {
   "cell_type": "code",
   "execution_count": null,
   "id": "7ef40bb9",
   "metadata": {},
   "outputs": [],
   "source": [
    "highstand = np.load(\"data/highstand_data.npy\")"
   ]
  },
  {
   "cell_type": "markdown",
   "id": "133dd0ed",
   "metadata": {},
   "source": [
    "<div style=\"background-color: #cce5ff; padding: 10px;\">\n",
    "    \n",
    "We can use 4 parameters provided in `parameter_data.npy` which correspond to the parameters listed below\n",
    " \n",
    "The Rates of Interglacial Sea-level Change and Responses (RISeR) dataset covers the early interglaical period and can be used to show relative contribution to the Penultimate Glacial Period (PPGM) Max Ice\n",
    "Volume and Last Interglacial (LIG) Highstnad from 4 parameters from seidment cores\n",
    "\n",
    "<img src=\"images/sea_level_parameters.png\">\n",
    "\n",
    "</div>"
   ]
  },
  {
   "cell_type": "code",
   "execution_count": null,
   "id": "427b8674",
   "metadata": {},
   "outputs": [],
   "source": [
    "parameters = np.load('data/parameter_data.npy')"
   ]
  },
  {
   "cell_type": "markdown",
   "id": "9c6e1a7b",
   "metadata": {},
   "source": [
    "# Normalise Data\n"
   ]
  },
  {
   "cell_type": "code",
   "execution_count": null,
   "id": "6fcc73ef",
   "metadata": {},
   "outputs": [],
   "source": [
    "# useful functions\n",
    "def stack_parameters(*parameters):\n",
    "    return np.column_stack([[*parameters]]).T\n",
    "\n",
    "def normalise(parameters):\n",
    "    normalised_parameters = np.zeros_like(parameters)\n",
    "    normalisation_values = []\n",
    "    for index, parameter in enumerate(parameters.T):\n",
    "        shift = - np.min(parameter)\n",
    "        scale = np.max(parameter + shift)\n",
    "        normalised_parameters[:,index] = (parameter + shift)/scale\n",
    "        normalisation_values.append((shift, scale))\n",
    "        \n",
    "    return normalised_parameters, normalisation_values\n",
    "    "
   ]
  },
  {
   "cell_type": "code",
   "execution_count": null,
   "id": "breeding-membership",
   "metadata": {
    "scrolled": false
   },
   "outputs": [],
   "source": [
    "            \n",
    "# move parameter ranges down to improve results\n",
    "p1 = parameters[:,0] # Bedrock\n",
    "p2 = parameters[:,1] # Onshore Sediment\n",
    "p3 = parameters[:,2] # Marine Sediement\n",
    "p4 = parameters[:,3] # Ice streams\n",
    "parmlist = ['Bedrock','Onshore Sediment','Marine Sediement','Ice streams']\n",
    "parameters = stack_parameters(p1, p2, p3, p4)\n",
    "highstand = highstand.reshape(-1,1)\n",
    "\n",
    "parameters_norm, parameters_norm_params = normalise(parameters)\n",
    "highstand_norm, highstand_norm_params = normalise(highstand)"
   ]
  },
  {
   "cell_type": "markdown",
   "id": "b49828d5",
   "metadata": {},
   "source": [
    "# Plot Data\n"
   ]
  },
  {
   "cell_type": "code",
   "execution_count": null,
   "id": "proud-edwards",
   "metadata": {},
   "outputs": [],
   "source": [
    "# plot data for parameter\n",
    "scatter_fig = plt.figure(figsize=[16,10])\n",
    "for index in range(4):\n",
    "    ax = scatter_fig.add_subplot(221+index)\n",
    "    ax.scatter(parameters_norm[:,index], highstand, s=15, c=\"#71a8ad\")\n",
    "    ax.set_title(f\"{str(parmlist[index])}\", fontsize=16, fontweight='bold')\n",
    "    ax.set_ylabel(\"Highstand (m)\")"
   ]
  },
  {
   "cell_type": "markdown",
   "id": "fd286e00",
   "metadata": {},
   "source": [
    "## Plot parameters against other parameters"
   ]
  },
  {
   "cell_type": "code",
   "execution_count": null,
   "id": "accessory-philip",
   "metadata": {},
   "outputs": [],
   "source": [
    "fig, ax = plt.subplots(nrows=4, ncols=4, figsize=(15,15))\n",
    "for index_1 in range(4):\n",
    "    for index_2 in range(4):\n",
    "        if index_1 == index_2:\n",
    "            ax[index_1, index_2].axis('off')\n",
    "            ax[index_1, index_2].text(0.5,0.5,f\"{str(parmlist[index_1])}\",horizontalalignment=\"center\",\n",
    "                                      verticalalignment=\"center\", fontsize=15, \n",
    "                                      fontweight='bold')\n",
    "        elif index_2 < index_1:\n",
    "            ax[index_1, index_2].axis('off')\n",
    "            \n",
    "        else:\n",
    "            ax[index_1, index_2].scatter(parameters_norm[:,index_2], parameters_norm[:,index_1],s=2,c=\"red\")\n",
    "            ax[index_1, index_2].set_xlim([0,1])\n",
    "            ax[index_1, index_2].set_ylim([0,1])"
   ]
  },
  {
   "cell_type": "code",
   "execution_count": null,
   "id": "b896cfa8",
   "metadata": {},
   "outputs": [],
   "source": [
    "# Over lay sparse points in red over the points to be predicted in blue"
   ]
  },
  {
   "cell_type": "code",
   "execution_count": null,
   "id": "polish-direction",
   "metadata": {},
   "outputs": [],
   "source": [
    "predict_coords = np.load(\"data/predict_points.npy\")"
   ]
  },
  {
   "cell_type": "code",
   "execution_count": null,
   "id": "4f08a106",
   "metadata": {},
   "outputs": [],
   "source": [
    "fig, ax = plt.subplots(nrows=4, ncols=4, figsize=(15,15))\n",
    "for index_1 in range(4):\n",
    "    for index_2 in range(4):\n",
    "        if index_1 == index_2:\n",
    "            ax[index_1, index_2].axis('off')\n",
    "            ax[index_1, index_2].text(0.5,0.5,f\"{str(parmlist[index_1])}\",\n",
    "                                      horizontalalignment=\"center\",\n",
    "                                      verticalalignment=\"center\", fontsize=15)\n",
    "        elif index_2 < index_1:\n",
    "            ax[index_1, index_2].axis('off')\n",
    "            \n",
    "        else:\n",
    "            ax[index_1, index_2].scatter(predict_coords[:,index_2], predict_coords[:,index_1],s=2,c=\"C0\", alpha=0.2)\n",
    "            ax[index_1, index_2].scatter(parameters_norm[:,index_2], parameters_norm[:,index_1],s=2,c=\"red\")\n",
    "            ax[index_1, index_2].set_xlim([0,1])\n",
    "            ax[index_1, index_2].set_ylim([0,1])"
   ]
  },
  {
   "cell_type": "markdown",
   "id": "96445033",
   "metadata": {},
   "source": [
    "## Define GP flow model\n",
    "\n",
    "<div style=\"background-color: #cce5ff; padding: 10px;\">\n",
    "\n",
    "We're going to use the python library [GP flow model](https://gpflow.readthedocs.io/en/master/notebooks/basics/regression.html) to create our guassian process model to creat a more complex model that in our previous example in less lines of code\n",
    "    \n",
    "`k = gpflow.kernels.Matern52(lengthscales=lscale)`  selects a [Matérn covariance function](https://en.wikipedia.org/wiki/Mat%C3%A9rn_covariance_function) for the [GP flow kernel](https://gpflow.readthedocs.io/en/master/notebooks/advanced/kernels.html)  \n",
    "\n",
    "`m = gpflow.models.GPR(data=(X, Y), kernel=k, mean_function=None)` constructs a regression model from data points and the selected kernal. \n",
    "\n",
    "to inspect the chosen kernel you can run the `print_summary` command which should show you a list of hyperparamers: `variance` and `lengthscale` and will display information about those hyperparamters which will start at default values of 1 and the [transformation](https://en.wikipedia.org/wiki/Rectifier_(neural_networks)#Softplus) applied.\n",
    "\n",
    "</div>"
   ]
  },
  {
   "cell_type": "code",
   "execution_count": null,
   "id": "5be48c64",
   "metadata": {},
   "outputs": [],
   "source": [
    "gpflow.config.set_default_summary_fmt(\"notebook\")\n",
    "k = gpflow.kernels.Matern52(lengthscales=np.ones((len(parameters_norm.T))))\n",
    "print_summary(k)"
   ]
  },
  {
   "cell_type": "code",
   "execution_count": null,
   "id": "7a60f04b",
   "metadata": {},
   "outputs": [],
   "source": [
    "m = gpflow.models.GPR(data=(parameters_norm, highstand_norm), kernel=k, mean_function=None)\n",
    "print_summary(m)"
   ]
  },
  {
   "cell_type": "markdown",
   "id": "2847d55e",
   "metadata": {},
   "source": [
    "## Optamization\n",
    "\n",
    "<div style=\"background-color: #cce5ff; padding: 10px;\">\n",
    "    \n",
    "`opt = gpflow.optimizers.Scipy()` uses the Scipy optimizer, which by default implements the [Limited Memory Broyden–Fletcher–Goldfarb–Shanno (L-BFGS-B)](https://en.wikipedia.org/wiki/Limited-memory_BFGS) algorithm\n",
    "    \n",
    "`opt.minimize(m.training_loss, m.trainable_variables, options=dict(maxiter=100))` calls the minimize method of an optimizer which uses the training_loss defined by the GPflow model and the variables to train with  and the number of iterations\n",
    "\n",
    "</div>"
   ]
  },
  {
   "cell_type": "code",
   "execution_count": null,
   "id": "d55b5932",
   "metadata": {},
   "outputs": [],
   "source": [
    "opt = gpflow.optimizers.Scipy()\n",
    "opt.minimize(m.training_loss, m.trainable_variables, options=dict(maxiter=100))\n",
    "print_summary(m)"
   ]
  },
  {
   "cell_type": "markdown",
   "id": "5eb5be2f",
   "metadata": {},
   "source": [
    "## Prediction\n",
    "\n",
    "\n",
    "<div style=\"background-color: #cce5ff; padding: 10px;\">\n",
    "    \n",
    "`m.predict_f` predicts at the new points producing a mean and variance we'll create an array of predicted means `predict` and variance `predict_var` by looping over the normalised training data from our parameters     \n",
    "</div>"
   ]
  },
  {
   "cell_type": "code",
   "execution_count": null,
   "id": "7c51e8b3",
   "metadata": {},
   "outputs": [],
   "source": [
    "mean, var = m.predict_f(np.asarray([[0.2,0.5,0.6,0.7]]))\n",
    "print(mean.numpy()[0][0], var.numpy()[0][0])"
   ]
  },
  {
   "cell_type": "code",
   "execution_count": null,
   "id": "b9abf715",
   "metadata": {},
   "outputs": [],
   "source": [
    "mean, var = m.predict_f(predict_coords)\n",
    "print(mean.numpy()[:,0], var)"
   ]
  },
  {
   "cell_type": "code",
   "execution_count": null,
   "id": "roman-chase",
   "metadata": {},
   "outputs": [],
   "source": [
    "def coords_flattern(*coords):\n",
    "    meshs = np.meshgrid(*coords)\n",
    "    return np.column_stack(([mesh.ravel() for mesh in meshs]))"
   ]
  },
  {
   "cell_type": "code",
   "execution_count": null,
   "id": "58b53e4f",
   "metadata": {},
   "outputs": [],
   "source": [
    "predict = []\n",
    "predict_var = []\n",
    "for index, point in enumerate(parameters_norm):\n",
    "    parameters_norm_training = np.delete(parameters_norm, index, axis=0)\n",
    "    highstand_norm_training = np.delete(highstand_norm, index, axis=0)\n",
    "    \n",
    "    k = gpflow.kernels.Matern52(lengthscales=np.ones((len(parameters.T))))\n",
    "    m = gpflow.models.GPR(data=(parameters_norm_training, highstand_norm_training), kernel=k, mean_function=None)\n",
    "    opt.minimize(m.training_loss, m.trainable_variables, options=dict(maxiter=100))\n",
    "    \n",
    "    lop = parameters_norm[index]\n",
    "    meanp, varp = m.predict_f(coords_flattern([lop[0]],[lop[1]],[lop[2]],[lop[3]]))\n",
    "    predict_var.append(varp.numpy()[0][0])\n",
    "    predict.append(meanp.numpy()[0][0])"
   ]
  },
  {
   "cell_type": "markdown",
   "id": "f61ab311",
   "metadata": {},
   "source": [
    "## Cross Validation\n",
    "\n",
    "\n",
    "<div style=\"background-color: #cce5ff; padding: 10px;\">\n",
    "    \n",
    "we can now plot our predicted values (`predict`) against our actual values (`highstand`) *normalised*\n",
    "</div>"
   ]
  },
  {
   "cell_type": "code",
   "execution_count": null,
   "id": "bf1da56c",
   "metadata": {},
   "outputs": [],
   "source": [
    "fig, ax = plt.subplots(figsize=[6,6])\n",
    "ax.plot(np.linspace(0,1,num=100), np.linspace(0,1,num=100), c=\"#031f1d\")\n",
    "ax.plot(highstand_norm, predict, 'x', c=\"#71a8ad\")\n",
    "ax.errorbar(highstand_norm, predict, yerr=predict_var, linestyle=\"None\")\n",
    "ax.set_ylabel(\"Predicted Highstand Normalised\")\n",
    "ax.set_xlabel(\"Actual Highstand Normalised\")"
   ]
  },
  {
   "cell_type": "markdown",
   "id": "794b84f8",
   "metadata": {},
   "source": [
    "## Plot High Stands\n",
    "\n",
    "<div style=\"background-color: #cce5ff; padding: 10px;\">\n",
    "\n",
    "We can now plot the actual predictions (`mean`) in purple with the grey dots agreemeny with the actual data (`highstand_norm`)    \n",
    "</div>"
   ]
  },
  {
   "cell_type": "code",
   "execution_count": null,
   "id": "e7c9ee16",
   "metadata": {},
   "outputs": [],
   "source": [
    "# plot data for parameter\n",
    "scatter_fig = plt.figure(figsize=[16,10])\n",
    "for index in range(4):\n",
    "    ax = scatter_fig.add_subplot(221+index)\n",
    "    ax.scatter(predict_coords[:,index], mean.numpy()[:,0], s=15, c=\"purple\")\n",
    "    ax.scatter(parameters_norm[:,index], highstand_norm, s=15, c=\"#71a8ad\")\n",
    "    ax.set_title(f\"{str(parmlist[index])}\", fontsize=16, fontweight='bold')\n",
    "    ax.set_ylabel(\"Highstand (m)\")\n",
    "    plt.legend(['mean','highstand_norm'])\n",
    "    \n",
    "plt.tight_layout()"
   ]
  },
  {
   "cell_type": "code",
   "execution_count": null,
   "id": "aa9f0dd6",
   "metadata": {},
   "outputs": [],
   "source": []
  }
 ],
 "metadata": {
  "kernelspec": {
   "display_name": "Python 3",
   "language": "python",
   "name": "python3"
  },
  "language_info": {
   "codemirror_mode": {
    "name": "ipython",
    "version": 3
   },
   "file_extension": ".py",
   "mimetype": "text/x-python",
   "name": "python",
   "nbconvert_exporter": "python",
   "pygments_lexer": "ipython3",
   "version": "3.8.10"
  }
 },
 "nbformat": 4,
 "nbformat_minor": 5
}
