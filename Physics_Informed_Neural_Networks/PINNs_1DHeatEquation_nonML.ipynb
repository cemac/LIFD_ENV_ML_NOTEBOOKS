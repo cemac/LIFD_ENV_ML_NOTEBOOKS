{
 "cells": [
  {
   "cell_type": "markdown",
   "id": "6ffe06c3",
   "metadata": {},
   "source": [
    "<div style=\"background-color: #ccffcc; padding: 10px;\">\n",
    "    <h1> Tutorial 2 </h1> \n",
    "    <h2> Physics Informed Neural Networks Part 1</h2>\n",
    "    <h2> Manual 1D Heat Equation Solver</h2>\n",
    "</div>    "
   ]
  },
  {
   "cell_type": "markdown",
   "id": "383e7d36",
   "metadata": {},
   "source": [
    "# Overview\n",
    "\n",
    "This notebook is based on two papers: *[Physics-Informed Neural Networks:  A Deep LearningFramework for Solving Forward and Inverse ProblemsInvolving Nonlinear Partial Differential Equations](https://www.sciencedirect.com/science/article/pii/S0021999118307125)* and *[Hidden Physics Models:  Machine Learning of NonlinearPartial Differential Equations](https://www.sciencedirect.com/science/article/pii/S0021999117309014)* with the help of  Fergus Shone and Michael Macraild.\n",
    "\n",
    "These tutorials will go through solving Partial Differential Equations using Physics Informed Neuaral Networks focusing on the Burgers Equation and a more complex example using the Navier Stokes Equation\n",
    "\n",
    "**This introduction section is replicated in all PINN tutorial notebooks (please skip if you've already been through)** \n",
    "\n",
    "<div style=\"background-color: #ccffcc; padding: 10px;\">\n",
    "If you have not already then in your repositoy directory please run the following code. \n",
    "    \n",
    "```bash\n",
    "git submodule init\n",
    "git submodule update --init --recursive\n",
    "```\n",
    "    \n",
    "</div>"
   ]
  },
  {
   "cell_type": "markdown",
   "id": "e5225421",
   "metadata": {},
   "source": [
    "<div style=\"background-color: #ccffcc; padding: 10px;\">\n",
    "\n",
    "<h1>Physics Informed Neural Networks</h1>\n",
    "\n",
    "For a typical Neural Network using algorithims like gradient descent to look for a hypothesis, data is the only guide, however if the data is noisy or sparse and we already have governing physical models we can use the knowledge we already know to optamize and inform the algoithms. This can be done via [feature enginnering]() or by adding a physicall inconsistency term to the loss function.\n",
    "<a href=\"https://towardsdatascience.com/physics-guided-neural-networks-pgnns-8fe9dbad9414\">\n",
    "<img src=\"https://miro.medium.com/max/700/1*uM2Qh4PFQLWLLI_KHbgaVw.png\">\n",
    "</a>   \n",
    "  \n",
    " \n",
    "## The very basics\n",
    "\n",
    "If you know nothing about neural networks there is a [toy neural network python code example](https://github.com/cemac/LIFD_ENV_ML_NOTEBOOKS/tree/main/ToyNeuralNetwork) included in the [LIFD ENV ML Notebooks Repository]( https://github.com/cemac/LIFD_ENV_ML_NOTEBOOKS). Creating a 2 layer neural network to illustrate the fundamentals of how Neural Networks work and the equivlent code using the python machine learning library [tensorflow](https://keras.io/). \n",
    "\n",
    "    \n",
    "## Recommended reading \n",
    "    \n",
    "The in-depth theory behind neural networks will not be covered here as this tutorial is focusing on application of machine learning methods. If you wish to learn more here are some great starting points.   \n",
    "\n",
    "* [All you need to know on Neural networks](https://towardsdatascience.com/nns-aynk-c34efe37f15a) \n",
    "* [Introduction to Neural Networks](https://victorzhou.com/blog/intro-to-neural-networks/)\n",
    "* [Physics Guided Neural Networks](https://towardsdatascience.com/physics-guided-neural-networks-pgnns-8fe9dbad9414)\n",
    "* [Maziar Rassi's Physics informed GitHub web Page](https://maziarraissi.github.io/PINNs/)\n",
    "\n",
    "</div>\n"
   ]
  },
  {
   "cell_type": "markdown",
   "id": "fe6528b7",
   "metadata": {},
   "source": [
    "<hr>\n",
    "\n",
    "\n",
    "<div style=\"background-color: #e6ccff; padding: 10px;\">\n",
    "    \n",
    "<h1> Machine Learning Theory </h1>\n",
    "<a href=\"https://victorzhou.com/series/neural-networks-from-scratch/\">\n",
    "<img src=\"https://victorzhou.com/media/nn-series/network.svg\">\n",
    "</a>\n",
    "\n",
    "    \n",
    "## Physics informed Neural Networks\n",
    "\n",
    "Neural networks work by using lots of data to calculate weights and biases from data alone to minimise the loss function enabling them to act as universal fuction approximators. However these loose their robustness when data is limited. However by using know physical laws or empirical validated relationships the solutions from neural networks can be sufficiently constrianed by disregardins no realistic solutions.\n",
    "    \n",
    "A Physics Informed Nueral Network considers a parameterized and nonlinear partial differential equation in the genral form;\n",
    "$$\n",
    "\\begin{align}\n",
    "     u_t + \\mathcal{N}[u; \\lambda] &= 0, && x \\in \\Omega, t \\in [0,T],\\\\\n",
    "\\end{align}\n",
    "$$\n",
    "\n",
    "where $\\mathcal{u(t,x)}$ denores the hidden solution, $\\mathcal{N}$ is a nonlinear differential operator acting on $u$, $\\mathcal{\\lambda}$ and $\\Omega$ is a \\subset of \\mathbb{R}^D$ (the perscribed data). This set up an encapuslate a wide range of problems such as diffusion processes, conservation laws,  advection-diffusion-reaction  systems,  and  kinetic  equations and conservation laws. \n",
    "\n",
    "Here we will go though this for the Burgers equation and Navier stokes equations\n",
    "\n",
    "\n",
    "</div>    "
   ]
  },
  {
   "cell_type": "markdown",
   "id": "48e5bd90",
   "metadata": {},
   "source": [
    "<div style=\"background-color: #cce5ff; padding: 10px;\">\n",
    "\n",
    "<h1> Python </h1>\n",
    "\n",
    "    \n",
    "## Tensorflow \n",
    "    \n",
    "There are many machine learning python libraries available, [TensorFlow](https://www.tensorflow.org/) a is one such library. If you have GPUs on the machine you are using TensorFlow will automatically use them and run the code even faster!\n",
    "\n",
    "## Further Reading\n",
    "\n",
    "* [Running Jupyter Notebooks](https://jupyter.readthedocs.io/en/latest/running.html#running)\n",
    "* [Tensorflow optimizers](https://www.tutorialspoint.com/tensorflow/tensorflow_optimizers.htm)\n",
    "\n",
    "</div>\n",
    "    \n",
    "<hr>"
   ]
  },
  {
   "cell_type": "markdown",
   "id": "4cad2d38",
   "metadata": {},
   "source": [
    "<div style=\"background-color: #ffffcc; padding: 10px;\">\n",
    "    \n",
    "<h1> Requirements </h1>\n",
    "\n",
    "These notebooks should run with the following requirements satisfied\n",
    "\n",
    "<h2> Python Packages: </h2>\n",
    "\n",
    "* Python 3\n",
    "* tensorflow > 2\n",
    "* numpy as np\n",
    "* matplotlib\n",
    "* scipy\n",
    "\n",
    "<h2> Data Requirements</h2>\n",
    "    \n",
    "This notebook referes to some data included in the git hub repositroy\n",
    "    \n",
    "</div>\n"
   ]
  },
  {
   "cell_type": "markdown",
   "id": "8d56bfc4",
   "metadata": {},
   "source": [
    "**Contents:**\n",
    "\n",
    "1. **[1D Heat Equation Non ML Example](PINNs_1DHeatEquations_nonML.ipynb)**\n",
    "2. [Burgers Equation PINN Example](PINNs_BurgersEquationExample.ipynb)\n",
    "3. [Navier-Stokes PINNs discovery of PDE’s](PINNs_Navier_Stokes_example.ipynb)\n",
    "\n"
   ]
  },
  {
   "cell_type": "markdown",
   "id": "13348827",
   "metadata": {},
   "source": [
    "<div style=\"background-color: #cce5ff; padding: 10px;\">\n",
    "Load in all required modules (includig some auxillary code) and turn off warnings. Make sure Keras session is clear\n",
    "</div>"
   ]
  },
  {
   "cell_type": "code",
   "execution_count": 2,
   "id": "7483507d",
   "metadata": {},
   "outputs": [],
   "source": [
    "# For readability: disable warnings\n",
    "import warnings\n",
    "warnings.filterwarnings('ignore')"
   ]
  },
  {
   "cell_type": "code",
   "execution_count": 3,
   "id": "8b27ee70",
   "metadata": {},
   "outputs": [
    {
     "name": "stderr",
     "output_type": "stream",
     "text": [
      "2021-07-15 16:57:02.874406: W tensorflow/stream_executor/platform/default/dso_loader.cc:64] Could not load dynamic library 'libcudart.so.11.0'; dlerror: libcudart.so.11.0: cannot open shared object file: No such file or directory\n",
      "2021-07-15 16:57:02.874427: I tensorflow/stream_executor/cuda/cudart_stub.cc:29] Ignore above cudart dlerror if you do not have a GPU set up on your machine.\n"
     ]
    }
   ],
   "source": [
    "import sys\n",
    "sys.path.insert(0, 'PINNs/Utilities/')\n",
    "import tensorflow as tf\n",
    "import numpy as np\n",
    "import matplotlib.pyplot as plt\n",
    "import scipy.io\n",
    "from scipy.interpolate import griddata\n",
    "import time\n",
    "from itertools import product, combinations\n",
    "from mpl_toolkits.mplot3d import Axes3D\n",
    "from mpl_toolkits.mplot3d.art3d import Poly3DCollection\n",
    "from mpl_toolkits.axes_grid1 import make_axes_locatable\n",
    "import matplotlib.gridspec as gridspec\n",
    "from time import time\n",
    "import scipy.sparse as sp\n",
    "import scipy.sparse.linalg as la"
   ]
  },
  {
   "cell_type": "markdown",
   "id": "92436c3b",
   "metadata": {},
   "source": [
    "<div style=\"background-color: #ccffcc; padding: 10px;\">\n",
    "\n",
    "<h1> 1D Heat Equation (forwards) </h1>\n",
    "\n",
    "Given\n",
    "- the initial temperature profile $u(x,0) = m(x)$,\n",
    "- the thermal diffusivity $k$,\n",
    "- a prescribed temperature $u(0,t) = u(L,t) = 0$ at the extremities of the rod;\n",
    "\n",
    "solve the heat equation\n",
    "\n",
    "$$\n",
    "\\left\\{\n",
    "\\begin{array}{ll}\n",
    "\\frac{\\partial u}{\\partial t} - k \\frac{\\partial^2}{\\partial x^2} u = 0 & \\forall x\\,\\in\\,(0, L)\\; \\forall t \\in (0,T)\\\\\n",
    "u(x, 0) = m(x) & \\forall x \\in [0,L] \\\\\n",
    "u(0,t) = u(L,t) = 0 & \\forall t \\in (0, T],\n",
    "\\end{array}\n",
    "\\right.\n",
    "$$\n",
    "\n",
    "and observe the temperature at the final time $T$:\n",
    "\n",
    "$$ \\mathcal{F}(m) = u(x, T). $$\n",
    "\n",
    "#### Analytical solution to the forward problem.\n",
    "    \n",
    "If\n",
    "\n",
    "$$ m(x) = \\sin\\left(n\\, \\frac{\\pi}{L} x \\right), \\quad n = 1,2,3, \\ldots ,$$\n",
    "\n",
    "then\n",
    "\n",
    "$$ u(x,t) = e^{ -k\\left(n\\, \\frac{\\pi}{L} \\right)^2 t} \\sin\\left(n\\,\\frac{\\pi}{L} x \\right) $$\n",
    "\n",
    "is the unique solution to the heat equation.\n",
    "\n",
    "</div>"
   ]
  },
  {
   "cell_type": "markdown",
   "id": "99d1cf04",
   "metadata": {},
   "source": [
    "<hr>\n",
    "<div style=\"background-color: #ccffcc; padding: 10px;\">\n",
    "\n",
    "<h1> 1D Heat Equation (inverse) </h1>\n",
    "\n",
    "Given the forward model F and a noisy measurament d of the temperature profile at time T, find the initial temperature profile m\n",
    "\n",
    "such that\n",
    "\\begin{equation}\n",
    "F(m)=d.\n",
    "   \\end{equation}\n",
    "    \n",
    "### Discretization\n",
    "\n",
    "To discretize the problem, we use finite differences in space and Implicit Euler in time.\n",
    "\n",
    "#### Semidiscretization in space\n",
    "We divide the $[0, L]$ interval in $n_x$ subintervals of the same lenght $h = \\frac{L}{n_x}$, and we denote with $u_j(t) := u( jh, t)$ the value of the temperature at point $x_j = jh$ and time $t$.\n",
    "\n",
    "We then use a centered finite difference approximation of the second derivative in space and write\n",
    "\n",
    "$$ \\frac{\\partial u_j(t)}{\\partial t} - k \\frac{u_{j-1}(t) - 2u_j(t) + u_{j+1}(t)}{h^2} \\quad \\text{for } j=1,2,\\ldots,n_x-1,$$\n",
    "\n",
    "with the boundary condition $u_0(t) = u_{n_x}(t) = 0$.\n",
    "\n",
    "By letting\n",
    "\n",
    "$$ \\mathbf{u}(t) = \\begin{bmatrix}u_1(t)\\\\u_2(t)\\\\ \\ldots\\\\ u_{n_x-1}(t) \\end{bmatrix}$$\n",
    "\n",
    "be the vector collecting the values of the temperature $u$ at the points $x_j = j\\,h$, we then write the system of ordinary differential equations (ODEs):\n",
    "$$ \\frac{\\partial}{\\partial t} \\mathbf{u}(t) + K \\mathbf{u}(t) = 0,$$\n",
    "where $K \\in \\mathbb{R}^{(n_x-1) \\times (n_x-1)}$ is the tridiagonal matrix given by\n",
    "\n",
    "$$ K = \\frac{k}{h^2}\\begin{bmatrix}  2 & -1 &       &        &        &    \\\\\n",
    "                                    -1 &  2 & -1    &        &        &    \\\\\n",
    "                                       & -1 &  2    & -1     &        &    \\\\\n",
    "                                       &    &\\ldots & \\ldots & \\ldots &    \\\\\n",
    "                                       &    &       & -1     &     2  & -1 \\\\ \n",
    "                                       &    &       &        &     -1 & 2  \\\\\n",
    "                     \\end{bmatrix}.$$\n",
    "                     \n",
    "#### Time discretization\n",
    "We subdivide the time interval $(0, T]$ in $n_t$ time step of size $\\Delta t = \\frac{T}{n_t}$.\n",
    "By letting $\\mathbf{u}^{(i)} = \\mathbf{u}(i\\,\\Delta t)$ denote the discretized temperature profile at time $t_i = i\\,\\Delta t$, the Implicit Euler scheme reads\n",
    "\n",
    "$$ \\frac{\\mathbf{u}^{(i+1)} - \\mathbf{u}^{(i)}}{\\Delta t} + K\\mathbf{u}^{(i+1)} = 0, \\quad \\text{for } i=0,1,\\ldots, n_t-1.$$\n",
    "\n",
    "After simple algebraic manipulations and exploiting the initial condition $u(x,0) = m(x)$, we then obtain\n",
    "\n",
    "$$\n",
    "\\left\\{\n",
    "\\begin{array}\n",
    "\\mathbf{u}^{(0)} = \\mathbf{m} \\\\\n",
    "\\mathbf{u}^{(i+1)} = \\left( I + \\Delta t\\, K\\right)^{-1} \\mathbf{u}^{(i)},\n",
    "\\end{array}\n",
    "\\right.\n",
    "$$\n",
    "\n",
    "or equivalently\n",
    "\n",
    "$$ \\mathbf{u}^{(i)} = \\left( I + \\Delta t\\, K\\right)^{-i} \\mathbf{m}.$$\n",
    "\n",
    "\n",
    "</div>"
   ]
  },
  {
   "cell_type": "markdown",
   "id": "d93da02a",
   "metadata": {},
   "source": [
    "<div style=\"background-color: #cce5ff; padding: 10px;\">\n",
    "\n",
    "# Define some helper functions to Solve 1D heat equation forwards \n",
    "\n",
    "In the code below, the function `assembleMatrix` generates the finite difference matrix $\\left( I + \\Delta t\\, K \\right)$ and the function `solveFwd` evaluates the forward model\n",
    "\n",
    "$$ F\\, \\mathbf{m} = \\left( I + \\Delta t\\, K\\right)^{-n_t}\\, \\mathbf{m}. $$\n",
    "    \n",
    "</div>"
   ]
  },
  {
   "cell_type": "code",
   "execution_count": 5,
   "id": "5e158479",
   "metadata": {},
   "outputs": [],
   "source": [
    "def plot(f, style, **kwargs):\n",
    "    x = np.linspace(0., L, nx+1)\n",
    "    f_plot = np.zeros_like(x)\n",
    "    f_plot[1:-1] = f\n",
    "    plt.plot(x,f_plot, style, **kwargs)\n",
    "    \n",
    "def assembleMatrix(n):\n",
    "    diagonals = np.zeros((3, n))   # 3 diagonals\n",
    "    diagonals[0,:] = -1.0/h**2\n",
    "    diagonals[1,:] =  2.0/h**2\n",
    "    diagonals[2,:] = -1.0/h**2\n",
    "    K = k*sp.spdiags(diagonals, [-1,0,1], n,n)\n",
    "    M = sp.spdiags(np.ones(n), 0, n,n)\n",
    "    \n",
    "    return M + dt*K\n",
    "    \n",
    "\n",
    "def solveFwd(m):\n",
    "    A = assembleMatrix(m.shape[0])\n",
    "    u_old = m.copy()\n",
    "    for i in np.arange(nt):\n",
    "        u = la.spsolve(A, u_old)\n",
    "        u_old[:] = u\n",
    "        \n",
    "    return u        "
   ]
  },
  {
   "cell_type": "markdown",
   "id": "ddfe82cd",
   "metadata": {},
   "source": [
    "<hr>\n",
    "<div style=\"background-color: #ccffcc; padding: 10px;\">\n",
    "    \n",
    "### A naive solution to the inverse problem\n",
    "\n",
    "If $\\mathcal{F}$ is invertible a naive solution to the inverse problem $\\mathcal{F} m = d$ is simply to set\n",
    "\n",
    "$$ m = \\mathcal{F}^{-1} d. $$\n",
    "\n",
    "\n",
    "    \n",
    "</div>\n",
    "<div style=\"background-color: #cce5ff; padding: 10px;\">\n",
    "\n",
    "The function `naiveSolveInv` computes the solution of the discretized inverse problem $\\mathbf{m} = F^{-1} \\mathbf{d}$ as\n",
    "\n",
    "$$ \\mathbf{m} = \\left( I + \\Delta t\\,K\\right)^{n_t} \\mathbf{d}. $$\n",
    "\n",
    "\n",
    "\n",
    "    \n",
    "</div>"
   ]
  },
  {
   "cell_type": "code",
   "execution_count": 6,
   "id": "a7dca03a",
   "metadata": {},
   "outputs": [],
   "source": [
    "def naiveSolveInv(d):\n",
    "    A = assembleMatrix(d.shape[0])\n",
    "    \n",
    "    p_i = d.copy()\n",
    "    for i in np.arange(nt):\n",
    "        p = A*p_i\n",
    "        p_i[:] = p\n",
    "        \n",
    "    return p"
   ]
  },
  {
   "cell_type": "code",
   "execution_count": 7,
   "id": "9554c437",
   "metadata": {},
   "outputs": [
    {
     "data": {
      "image/png": "[encoded data removed]",
      "text/plain": [
       "<Figure size 432x288 with 1 Axes>"
      ]
     },
     "metadata": {
      "needs_background": "light"
     },
     "output_type": "display_data"
    },
    {
     "data": {
      "image/png": "[encoded data removed]",
      "text/plain": [
       "<Figure size 432x288 with 1 Axes>"
      ]
     },
     "metadata": {
      "needs_background": "light"
     },
     "output_type": "display_data"
    }
   ],
   "source": [
    "# Edit nx or noise_std_dev to see the impact on the naive solver\n",
    "\n",
    "nx = 20 # default 20\n",
    "noise_std_dev = 1e-4 # default\n",
    "\n",
    "\n",
    "T = 1.0\n",
    "L = 1.0\n",
    "k = 0.005\n",
    "\n",
    "nt = 100\n",
    "\n",
    "\n",
    "h = L/float(nx)\n",
    "dt = T/float(nt)\n",
    "\n",
    "x = np.linspace(0.+h, L-h, nx-1) #place nx-1 equispace point in the interior of [0,L] interval\n",
    "m_true = np.power(.5,-36)*np.power(x,20)*np.power(1. - x, 16)  #smooth true initial condition\n",
    "#m_true = 0.5 - np.abs(x-0.5)                                    #initial condition with a corner\n",
    "u_true = solveFwd(m_true)\n",
    "\n",
    "d = u_true + noise_std_dev*np.random.randn(u_true.shape[0])\n",
    "\n",
    "m = naiveSolveInv(d)\n",
    "\n",
    "plot(u_true, \"-b\", label = 'u(T)')\n",
    "plot(d, \"og\", label = 'd')\n",
    "plt.legend()\n",
    "plt.title('sample data to be used in Niave solver ')\n",
    "plt.show()\n",
    "\n",
    "\n",
    "plot(m_true, \"-r\", label = 'm_true')\n",
    "plot(m, \"-b\", label = 'm')\n",
    "plt.legend()\n",
    "plt.title('Naive Solution coarse mesh')\n",
    "plt.show()\n"
   ]
  },
  {
   "cell_type": "markdown",
   "id": "a4e9b902",
   "metadata": {},
   "source": [
    "<div style=\"background-color: #cce5ff; padding: 10px;\">\n",
    "\n",
    "If you have played around with the code above you will see that:\n",
    "- for a very coarse mesh (`nx = 20`) and no measurement noise (`noise_std_dev = 0.0`) the naive solution is quite good\n",
    "- for a finer mesh (`nx = 100`) and/or even small measurement noise (`noise_std_dev = 1e-4`) the naive solution is very poor\n",
    "\n",
    "</div>    "
   ]
  },
  {
   "cell_type": "markdown",
   "id": "1de8d0a5",
   "metadata": {},
   "source": [
    "<hr>\n",
    "<div style=\"background-color: #ccffcc; padding: 10px;\">\n",
    "    \n",
    "### Why does the naive solution fail?\n",
    "\n",
    "Let $v_n = \\sqrt{\\frac{2}{L}} \\sin\\left( n \\, \\frac{\\pi}{L} x \\right)$ with $n=1,2,3, \\ldots$, then we have that\n",
    "\n",
    "$$ \\mathcal{F} v_n = \\lambda_n v_n, \\quad \\text{where the eigenvalues } \\lambda_n = e^{-kT\\left(\\frac{\\pi}{L} n \\right)^2}. $$\n",
    "\n",
    "**Note 1**:\n",
    "- Large eigenvalues $\\lambda_n$ corresponds to smooth eigenfunctions $v_n$;\n",
    "- Small eigenvalues $\\lambda_n$ corresponds to oscillatory eigenfuctions $v_n$.\n",
    "\n",
    "The figure below shows that the eigenvalues $\\lambda_n$ decays extremely fast, that is the matrix $F$ (discretization of the forward model $\\mathcal{F}$) is extremely ill conditioned.\n",
    "\n",
    "</div>"
   ]
  },
  {
   "cell_type": "code",
   "execution_count": 8,
   "id": "8d98d3fc",
   "metadata": {},
   "outputs": [
    {
     "data": {
      "image/png": "[encoded data removed]",
      "text/plain": [
       "<Figure size 432x288 with 1 Axes>"
      ]
     },
     "metadata": {
      "needs_background": "light"
     },
     "output_type": "display_data"
    }
   ],
   "source": [
    "T = 1.0\n",
    "L = 1.0\n",
    "k = 0.005\n",
    "\n",
    "i = np.arange(1,50)\n",
    "lambdas = np.exp(-k*T*np.power(np.pi/L*i,2))\n",
    "\n",
    "plt.semilogy(i, lambdas, 'ob')\n",
    "plt.xlabel('i')\n",
    "plt.ylabel('lambda_i')\n",
    "plt.title('Eigen Value decay')\n",
    "plt.show()"
   ]
  },
  {
   "cell_type": "markdown",
   "id": "faf6962a",
   "metadata": {},
   "source": [
    "<hr>\n",
    "<div style=\"background-color: #ccffcc; padding: 10px;\">\n",
    "    \n",
    "**Note 2**: The functions $v_n$ ($n=1,2,3, \\ldots$) form an orthonormal basis of $L^2([0,1]$). \n",
    "\n",
    "That is, every function $f \\in L^2([0,1])$ can be written as\n",
    "\n",
    "$$ f = \\sum_{n=1}^\\infty \\alpha_n v_n, \\text{ where } \\alpha_n = \\int_0^1 f v_n dx.$$\n",
    "\n",
    "Consider now the noisy problem\n",
    "\n",
    "$$ d = \\mathcal{F}m_{\\rm true} + \\eta, $$\n",
    "\n",
    "where\n",
    "- $d$ is the data (noisy measurements)\n",
    "- $\\eta$ is the noise: $\\eta(x) = \\sum_{n=1}^\\infty \\eta_n v_n(x)$\n",
    "- $m_{\\rm true}$ is the true value of the parameter that generated the data\n",
    "- $\\mathcal{F}$ is the forward heat equation\n",
    "\n",
    "Then, the naive solution to the inverse problem $\\mathcal{F}m = d$ is\n",
    "\n",
    "$$ m = \\mathcal{F}^{-1}d = \\mathcal{F}^{-1}\\left( \\mathcal{F}m_{\\rm true} + \\eta \\right) = m_{\\rm true} + \\mathcal{F}^{-1} \\eta = m_{\\rm true} + \\mathcal{F}^{-1} \\sum_{n=1}^{\\infty} \\eta_n v_n = m_{\\rm true} +  \\sum_{n=1}^{\\infty} \\frac{\\eta_n}{\\lambda_n} v_n. $$\n",
    "\n",
    "If the coefficients $\\eta_n = \\int_0^1 \\eta(x) \\, v_n(x) \\, dx$ do not decay sufficiently fast with respect to the eigenvalues $\\lambda_n$, then the naive solution is unstable.\n",
    "\n",
    "This implies that oscillatory components can not reliably be reconstructed from noisy data since they correspond to small eigenvalues.\n",
    "\n",
    "This means we must take different approach even to a relatively simple looking problem which may require filtering or computationaly expensive calculations. This is with an even sample of data to use. So we might consider looking to PINNs"
   ]
  },
  {
   "cell_type": "markdown",
   "id": "d8f2d614",
   "metadata": {},
   "source": [
    "<hr>\n",
    "\n",
    "<div style=\"background-color: #e6ccff; padding: 10px;\">\n",
    "\n",
    "## Next steps\n",
    "\n",
    "Now we've gone through a Naive manial approach to solving a simple 1D Heat equation we look at the benefits of using neural networks to solve more complex equations starting with the next notebook linked below: \n",
    "    \n",
    "[Burgers Equation PINN Example](PINNs_BurgersEquationExample.ipynb)\n",
    "    \n",
    "</div>"
   ]
  },
  {
   "cell_type": "code",
   "execution_count": null,
   "id": "3fcc6214",
   "metadata": {},
   "outputs": [],
   "source": []
  },
  {
   "cell_type": "code",
   "execution_count": null,
   "id": "fb2c3b34",
   "metadata": {},
   "outputs": [],
   "source": []
  }
 ],
 "metadata": {
  "kernelspec": {
   "display_name": "Python 3",
   "language": "python",
   "name": "python3"
  },
  "language_info": {
   "codemirror_mode": {
    "name": "ipython",
    "version": 3
   },
   "file_extension": ".py",
   "mimetype": "text/x-python",
   "name": "python",
   "nbconvert_exporter": "python",
   "pygments_lexer": "ipython3",
   "version": "3.8.10"
  }
 },
 "nbformat": 4,
 "nbformat_minor": 5
}
